{
  "cells": [
    {
      "cell_type": "code",
      "execution_count": null,
      "metadata": {
        "id": "DjPcqksdRyiC"
      },
      "outputs": [],
      "source": []
    },
    {
      "cell_type": "code",
      "execution_count": 23,
      "metadata": {
        "id": "vFp35PxvSDG_"
      },
      "outputs": [],
      "source": [
        "! pip install -q --upgrade google-generativeai langchain-google-genai chromadb langchain"
      ]
    },
    {
      "cell_type": "code",
      "execution_count": 24,
      "metadata": {
        "id": "0PQx3LSqTEEV"
      },
      "outputs": [],
      "source": [
        "import google.generativeai as genai\n",
        "from google.colab import userdata\n",
        "from langchain.text_splitter import RecursiveCharacterTextSplitter\n",
        "from langchain_community.document_loaders import TextLoader\n",
        "from langchain_google_genai import GoogleGenerativeAIEmbeddings\n",
        "from langchain.vectorstores import Chroma\n",
        "from langchain_google_genai import ChatGoogleGenerativeAI\n",
        "from langchain import PromptTemplate\n",
        "from langchain.chains import RetrievalQA\n",
        "from IPython.display import display\n",
        "from IPython.display import Markdown\n",
        "import textwrap\n"
      ]
    },
    {
      "cell_type": "code",
      "source": [
        "df=pd.read_csv(\"masked_dataset\") #obtained from Masking code"
      ],
      "metadata": {
        "colab": {
          "base_uri": "https://localhost:8080/",
          "height": 146
        },
        "id": "UpArYaA4mc18",
        "outputId": "60d9f36c-7521-4269-8ae6-e66b8ef95638"
      },
      "execution_count": 25,
      "outputs": [
        {
          "output_type": "error",
          "ename": "NameError",
          "evalue": "name 'pd' is not defined",
          "traceback": [
            "\u001b[0;31m---------------------------------------------------------------------------\u001b[0m",
            "\u001b[0;31mNameError\u001b[0m                                 Traceback (most recent call last)",
            "\u001b[0;32m<ipython-input-25-256ef55140ad>\u001b[0m in \u001b[0;36m<cell line: 1>\u001b[0;34m()\u001b[0m\n\u001b[0;32m----> 1\u001b[0;31m \u001b[0mdf\u001b[0m\u001b[0;34m=\u001b[0m\u001b[0mpd\u001b[0m\u001b[0;34m.\u001b[0m\u001b[0mread_csv\u001b[0m\u001b[0;34m(\u001b[0m\u001b[0;34m\"masked_dataset\"\u001b[0m\u001b[0;34m)\u001b[0m \u001b[0;31m#obtained from Masking code\u001b[0m\u001b[0;34m\u001b[0m\u001b[0;34m\u001b[0m\u001b[0m\n\u001b[0m",
            "\u001b[0;31mNameError\u001b[0m: name 'pd' is not defined"
          ]
        }
      ]
    },
    {
      "cell_type": "code",
      "source": [
        "GOOGLE_API_KEY=userdata.get('GEMINI')"
      ],
      "metadata": {
        "id": "CZ8et5prkIQn"
      },
      "execution_count": null,
      "outputs": []
    },
    {
      "cell_type": "code",
      "execution_count": null,
      "metadata": {
        "id": "7-BewI7UTI3Z"
      },
      "outputs": [],
      "source": [
        "\n",
        "llm = ChatGoogleGenerativeAI(model=\"gemini-pro\",google_api_key=GOOGLE_API_KEY,\n",
        "                             temperature=0.2,convert_system_message_to_human=True)"
      ]
    },
    {
      "cell_type": "code",
      "execution_count": null,
      "metadata": {
        "id": "z-0InjiZYWvf"
      },
      "outputs": [],
      "source": [
        "text_store = 'test.txt'\n",
        "loader = TextLoader(text_store)\n",
        "pages = loader.load()\n",
        "\n",
        "splitter = RecursiveCharacterTextSplitter(chunk_size=500, chunk_overlap=20, separators=['QUESTION'])\n",
        "docs = splitter.split_documents(pages)"
      ]
    },
    {
      "cell_type": "code",
      "execution_count": null,
      "metadata": {
        "colab": {
          "base_uri": "https://localhost:8080/"
        },
        "id": "7D6giK5KY8G4",
        "outputId": "f44b4580-b1ac-4a76-85ea-a36de5f207e3"
      },
      "outputs": [
        {
          "data": {
            "text/plain": [
              "Document(page_content='QUESTION: A pulmonary autopsy specimen from a 58-year-old woman who died of acute hypoxic respiratory failure was examined. She had recently undergone surgery for a fractured femur 3 months ago. Initial hospital course was uncomplicated, and she was discharged to a rehab facility in good health. Shortly after discharge home from rehab, she developed sudden shortness of breath and had cardiac arrest. Resuscitation was unsuccessful. On histological examination of lung tissue, fibrous connective tissue around the lumen of the pulmonary artery is observed. Which of the following is the most likely pathogenesis for the present findings?\\n      ANSWER: Thromboembolism\\n', metadata={'source': 'test.txt'})"
            ]
          },
          "execution_count": 8,
          "metadata": {},
          "output_type": "execute_result"
        }
      ],
      "source": [
        "docs[3]"
      ]
    },
    {
      "cell_type": "code",
      "execution_count": null,
      "metadata": {
        "id": "uY8XH2oZaDqm"
      },
      "outputs": [],
      "source": [
        "embeddings = GoogleGenerativeAIEmbeddings(model=\"models/embedding-001\",google_api_key=GOOGLE_API_KEY)\n",
        "doc_search = Chroma.from_documents(docs, embeddings)"
      ]
    },
    {
      "cell_type": "code",
      "execution_count": null,
      "metadata": {
        "id": "3_ZF7KKKaKVX"
      },
      "outputs": [],
      "source": []
    },
    {
      "cell_type": "code",
      "execution_count": null,
      "metadata": {
        "id": "ryix75A1aZJg"
      },
      "outputs": [],
      "source": [
        "template = \"\"\"\n",
        "Use the following context (delimited by <ctx></ctx>) to answer the question. Given the symptoms, return only the disease / pathogen at position of <MASK>.\n",
        "Return disease / pathogen name only, do not output anything else.\n",
        "------\n",
        "<ctx>\n",
        "{context}\n",
        "</ctx>\n",
        "------\n",
        "Question:\n",
        "{question}\n",
        "Answer:\n",
        "\"\"\"\n",
        "prompt = PromptTemplate(\n",
        "    input_variables=[\"context\", \"question\"],\n",
        "    template=template,\n",
        ")"
      ]
    },
    {
      "cell_type": "code",
      "execution_count": null,
      "metadata": {
        "id": "MHoDttG-bLM_"
      },
      "outputs": [],
      "source": [
        "prompt = PromptTemplate(\n",
        "    input_variables=[\"context\", \"question\"],\n",
        "    template=template,\n",
        ")"
      ]
    },
    {
      "cell_type": "code",
      "execution_count": null,
      "metadata": {
        "id": "dZbtKqC_bNvO"
      },
      "outputs": [],
      "source": [
        "retrieval_chain = RetrievalQA.from_chain_type(llm,\n",
        "                                              chain_type='stuff',\n",
        "                                              retriever=doc_search.as_retriever(),\n",
        "                                              chain_type_kwargs={\n",
        "                                                  \"prompt\": prompt,\n",
        "                                              })"
      ]
    },
    {
      "cell_type": "code",
      "execution_count": null,
      "metadata": {
        "id": "KTz4l8g7bPO-"
      },
      "outputs": [],
      "source": [
        "def invoke_query_chain(query):\n",
        "    response = retrieval_chain.run(query)\n",
        "    response=response.replace('<pad>', ' ')\n",
        "    return response"
      ]
    },
    {
      "cell_type": "code",
      "source": [],
      "metadata": {
        "id": "-rP_9PCnuY6S"
      },
      "execution_count": null,
      "outputs": []
    },
    {
      "cell_type": "code",
      "execution_count": null,
      "metadata": {
        "colab": {
          "base_uri": "https://localhost:8080/",
          "height": 62
        },
        "id": "kXz8DHzmbTmX",
        "outputId": "f4b631d7-02f6-44f5-c29d-45a0126f6f52"
      },
      "outputs": [
        {
          "data": {
            "text/markdown": "> The provided context does not mention the disease / pathogen at position of <MASK>.",
            "text/plain": [
              "<IPython.core.display.Markdown object>"
            ]
          },
          "execution_count": 20,
          "metadata": {},
          "output_type": "execute_result"
        }
      ],
      "source": [
        "def find_sentence_with_word(index,df=df):\n",
        "    allSentences=df['new_masked_text'][index]\n",
        "    wrong_word=df['masked_word'][index]\n",
        "    sentences = allSentences.split('\\n')\n",
        "    for i, sentence in enumerate(sentences):\n",
        "      # print(i,\":\",sentence)\n",
        "      if wrong_word in sentence:\n",
        "        return i # Return the index\n",
        "    # print(\"Not found\")\n",
        "    return -1\n",
        "\n",
        "def get_response(index,df=df):\n",
        "    actual_text=df['Sentences'][index]\n",
        "    masked_ip=df['new_masked_text'][index]\n",
        "    masked_word=df['masked_word'][index]\n",
        "    corr_word= invoke_query_chain(masked_ip)\n",
        "    corr_sent=masked_ip.replace(\"[MASK]\",corr_word)\n",
        "    error_flag=0\n",
        "    if(masked_word.lower()!=corr_word.lower()):\n",
        "        error_flag=1\n",
        "    sent_id=find_sentence_with_word(index)\n",
        "\n",
        "    print(\"ACTUAL TEXT :\",actual_text)\n",
        "    print(\"MASKED TEXT:\",masked_ip)\n",
        "    print(\"WRONG WORD :\",masked_word)\n",
        "    print(\"CORRECT WORD :\",corr_word)\n",
        "    print(\"CORRECT SENTENCE :\",corr_sent)\n",
        "    print(\"SENT ID :\",sent_id)\n",
        "    print(\"ERROR Flag :\",error_flag)\n",
        ""
      ]
    },
    {
      "cell_type": "code",
      "execution_count": null,
      "metadata": {
        "id": "mmEtKW4nTJGs"
      },
      "outputs": [],
      "source": [
        "response = invoke_query_chain('''0 A 29-year-old internal medicine resident presents to the emergency department with complaints of fevers, diarrhea, abdominal pain, and skin rash for 2 days.\n",
        "1 He feels fatigued and has lost his appetite.\n",
        "2 On further questioning, he says that he returned from his missionary trip to Brazil last week.\n",
        "3 He is excited as he talks about his trip.\n",
        "4 Besides a worthy clinical experience, he also enjoyed local outdoor activities, like swimming and rafting.\n",
        "5 His past medical history is insignificant.\n",
        "6 The blood pressure is\n",
        "7 120/70 mm\n",
        "8 Hg, the pulse is 100/min, and the temperature is 38.3 C (100.9 F).\n",
        "9 On examination, there is a rash on the legs.\n",
        "10 Patient's symptoms are suspected to be due to hepatitis A.\n",
        "11 The rest of the examination is normal.\n",
        "''')\n"
      ]
    },
    {
      "cell_type": "code",
      "execution_count": null,
      "metadata": {
        "id": "URHvLcJxbbt2"
      },
      "outputs": [],
      "source": [
        "get_response(0)\n",
        "\n",
        "\n",
        "#OUTPUT\n",
        "\n",
        "# ACTUAL TEXT :0 A 29-year-old internal medicine resident presents to the emergency department with complaints of fevers, diarrhea, abdominal pain, and skin rash for 2 days.\n",
        "# 1 He feels fatigued and has lost his appetite.\n",
        "# 2 On further questioning, he says that he returned from his missionary trip to Brazil last week.\n",
        "# 3 He is excited as he talks about his trip.\n",
        "# 4 Besides a worthy clinical experience, he also enjoyed local outdoor activities, like swimming and rafting.\n",
        "# 5 His past medical history is insignificant.\n",
        "# 6 The blood pressure is\n",
        "# 7 120/70 mm\n",
        "# 8 Hg, the pulse is 100/min, and the temperature is 38.3 C (100.9 F).\n",
        "# 9 On examination, there is a rash on the legs.\n",
        "# 10 Patient's symptoms are suspected to be due to hepatitis A.\n",
        "# 11 The rest of the examination is normal.\n",
        "\n",
        "# MASKED TEXT:0 A 29-year-old internal medicine resident presents to the emergency department with complaints of fevers, diarrhea, abdominal pain, and skin rash for 2 days.\n",
        "# 1 He feels fatigued and has lost his appetite.\n",
        "# 2 On further questioning, he says that he returned from his missionary trip to Brazil last week.\n",
        "# 3 He is excited as he talks about his trip.\n",
        "# 4 Besides a worthy clinical experience, he also enjoyed local outdoor activities, like swimming and rafting.\n",
        "# 5 His past medical history is insignificant.\n",
        "# 6 The blood pressure is\n",
        "# 7 120/70 mm\n",
        "# 8 Hg, the pulse is 100/min, and the temperature is 38.3 C (100.9 F).\n",
        "# 9 On examination, there is a rash on the legs.\n",
        "# 10 Patient's symptoms are suspected to be due to [MASK]\n",
        "# 11 The rest of the examination is normal.\n",
        "\n",
        "# WRONG WORD : hepatitis A\n",
        "# CORRECT WORD : Schistosoma mansoni\n",
        "# CORRECT SENTENCE : Patient's symptoms are suspected to be due to Schistosoma mansoni\n",
        "# SENT ID : 10\n",
        "# ERROR Flag : 1\n"
      ]
    }
  ],
  "metadata": {
    "colab": {
      "provenance": []
    },
    "kernelspec": {
      "display_name": "Python 3",
      "name": "python3"
    },
    "language_info": {
      "name": "python"
    }
  },
  "nbformat": 4,
  "nbformat_minor": 0
}